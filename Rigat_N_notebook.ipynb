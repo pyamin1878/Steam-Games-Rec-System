{
 "cells": [
  {
   "cell_type": "code",
   "execution_count": 3,
   "metadata": {},
   "outputs": [],
   "source": [
    "import pandas as pd\n",
    "import numpy as np\n",
    "import json\n",
    "import re\n",
    "import seaborn as sns\n",
    "from sklearn.cluster import KMeans\n",
    "from matplotlib import pyplot as plt\n",
    "\n",
    "from surprise import Reader, Dataset, SVD ,KNNWithMeans\n",
    "from surprise.model_selection import cross_validate ,GridSearchCV , train_test_split\n"
   ]
  },
  {
   "cell_type": "code",
   "execution_count": null,
   "metadata": {},
   "outputs": [],
   "source": [
    "steam_df = pd.read_csv('./data/steam-200k.csv', header=None, index_col=None, names=['UserID', 'Game', 'Action', 'Hours', 'Other'])"
   ]
  },
  {
   "cell_type": "code",
   "execution_count": null,
   "metadata": {},
   "outputs": [],
   "source": [
    "steam_df.head(15)"
   ]
  },
  {
   "cell_type": "code",
   "execution_count": null,
   "metadata": {},
   "outputs": [],
   "source": [
    "steam_df.value_counts()"
   ]
  },
  {
   "cell_type": "code",
   "execution_count": null,
   "metadata": {},
   "outputs": [],
   "source": [
    "def parse(path):\n",
    "    data = []\n",
    "    g = gzip.open(path, 'r')\n",
    "    for l in g:\n",
    "        data.append(eval(l))\n",
    "    return data"
   ]
  },
  {
   "cell_type": "code",
   "execution_count": null,
   "metadata": {},
   "outputs": [],
   "source": [
    "play_data = steam_df[steam_df['Action'] == 'play']"
   ]
  },
  {
   "cell_type": "code",
   "execution_count": null,
   "metadata": {},
   "outputs": [],
   "source": [
    "play_data_new = play_data.drop(['Action', 'Other'], axis=1)"
   ]
  },
  {
   "cell_type": "code",
   "execution_count": null,
   "metadata": {},
   "outputs": [],
   "source": [
    "nb_games = 10\n",
    "df_purchase = steam_df.loc[steam_df['Action'] == 'purchase']\n",
    "purchased_times = df_purchase.groupby('Game')['Game'].agg('count').sort_values(ascending=False)\n",
    "purchased_times = pd.DataFrame({'game': purchased_times.index, 'times_purchased': purchased_times.values})[0:nb_games]\n",
    "\n",
    "play_data = steam_df[steam_df['Action'] == 'play']\n",
    "hours_played = play_data.groupby('Game')['Hours'].agg(np.sum).sort_values(ascending=False)\n",
    "hours_played = pd.DataFrame({'game': hours_played.index, 'hours_played': hours_played.values})[0:nb_games]\n",
    "\n",
    "fig, ax = plt.subplots(1,2,figsize=(12,nb_games))\n",
    "\n",
    "sns.barplot(y = 'game', x = 'times_purchased', data = purchased_times, ax=ax[0])\n",
    "sns.barplot(y = 'game', x = 'hours_played', data = hours_played, ax=ax[1])\n",
    "\n",
    "\n",
    "ax[1].yaxis.tick_right()\n",
    "ax[1].yaxis.set_label_position(\"right\")\n",
    "for i in range(0,2):\n",
    "    ax[i].tick_params(axis='y', labelsize=18)\n",
    "    ax[i].xaxis.label.set_size(20)"
   ]
  },
  {
   "cell_type": "code",
   "execution_count": null,
   "metadata": {},
   "outputs": [],
   "source": [
    "play_data_new"
   ]
  },
  {
   "cell_type": "code",
   "execution_count": null,
   "metadata": {},
   "outputs": [],
   "source": [
    "# # Define the function to categorize hours\n",
    "# def categorize_hours(hours):\n",
    "#     if hours <= 20:\n",
    "#         return 1\n",
    "#     elif 21 <= hours <= 100:\n",
    "#         return 2\n",
    "#     elif 101 <= hours <= 500:\n",
    "#         return 3\n",
    "#     elif 501 <= hours <= 1000:\n",
    "#         return 4\n",
    "#     else:\n",
    "#         return 5\n",
    "\n",
    "# # Apply the function to the 'Hours' column to create a new 'Reviews' column\n",
    "# play_data_new['Ratings'] = play_data_new['Hours'].apply(categorize_hours)"
   ]
  },
  {
   "cell_type": "code",
   "execution_count": null,
   "metadata": {},
   "outputs": [],
   "source": [
    "game_hours_min_max = play_data_new.groupby('Game')['Hours'].agg(['min', 'max']).reset_index()"
   ]
  },
  {
   "cell_type": "code",
   "execution_count": null,
   "metadata": {},
   "outputs": [],
   "source": [
    "# Define a new function for cumulative hours to fit the rating system\n",
    "# Recalculate the total hours played for each game across all users\n",
    "# Create a DataFrame for the rating of each game\n",
    "game_hours_min_max.columns = ['Game', 'Min_Hours', 'Max_Hours']\n",
    "\n",
    "# Merge this with the original play_data_new DataFrame\n",
    "play_data_agg_min_max = play_data_new.merge(game_hours_min_max, on='Game')\n",
    "\n",
    "play_data_agg_min_max.head()\n"
   ]
  },
  {
   "cell_type": "code",
   "execution_count": null,
   "metadata": {},
   "outputs": [],
   "source": [
    "play_data_agg_min_max.tail(50)"
   ]
  },
  {
   "cell_type": "code",
   "execution_count": null,
   "metadata": {},
   "outputs": [],
   "source": [
    "filtered_data_new = play_data_agg_min_max.loc[play_data_agg_min_max['Min_Hours'] != play_data_agg_min_max['Max_Hours']]"
   ]
  },
  {
   "cell_type": "code",
   "execution_count": null,
   "metadata": {},
   "outputs": [],
   "source": [
    "filtered_data_new"
   ]
  },
  {
   "cell_type": "code",
   "execution_count": null,
   "metadata": {},
   "outputs": [],
   "source": [
    "def ratings_normalize(d):\n",
    "    new_series = d['Hours'] / d['Max_Hours']\n",
    "    return new_series"
   ]
  },
  {
   "cell_type": "code",
   "execution_count": null,
   "metadata": {},
   "outputs": [],
   "source": [
    "filtered_data['Hours']"
   ]
  },
  {
   "cell_type": "code",
   "execution_count": null,
   "metadata": {},
   "outputs": [],
   "source": [
    "filtered_data['Ratings'] = filtered_data.apply(lambda x: (x[\"Hours\"] / x[\"Max_Hours\"]), axis=1)"
   ]
  },
  {
   "cell_type": "code",
   "execution_count": null,
   "metadata": {},
   "outputs": [],
   "source": [
    "filtered_data"
   ]
  },
  {
   "cell_type": "code",
   "execution_count": null,
   "metadata": {},
   "outputs": [],
   "source": [
    "filtered_data.to_csv('./data/cleaned_steam_games.csv')"
   ]
  },
  {
   "cell_type": "code",
   "execution_count": null,
   "metadata": {},
   "outputs": [],
   "source": [
    "df = pd.read_csv('data/cleaned_steam_games.csv' ,index_col=0)"
   ]
  },
  {
   "cell_type": "code",
   "execution_count": null,
   "metadata": {},
   "outputs": [],
   "source": [
    "df"
   ]
  },
  {
   "cell_type": "code",
   "execution_count": null,
   "metadata": {},
   "outputs": [],
   "source": [
    "# Define the Reader\n",
    "reader = Reader(rating_scale=(0, 1))\n",
    "\n",
    "# Load the dataset into Surprise\n",
    "data = Dataset.load_from_df(df[['UserID', 'Game', 'Ratings']], reader)\n",
    "\n",
    "# SVD algo\n",
    "algo_svd = SVD()\n",
    "\n",
    "# Perform cross-validation\n",
    "svd_results = cross_validate(algo_svd, data, measures=['RMSE', 'MAE'], cv=5, verbose=True)"
   ]
  },
  {
   "cell_type": "code",
   "execution_count": null,
   "metadata": {},
   "outputs": [],
   "source": [
    "# Define the Reader\n",
    "reader = Reader(rating_scale=(0, 1))\n",
    "\n",
    "# Load the dataset into Surprise\n",
    "data = Dataset.load_from_df(df[['UserID', 'Game', 'Ratings']], reader)\n",
    "\n",
    "# Configure KNNWithMeans\n",
    "algo_knnm = KNNWithMeans(sim_options={'name': 'cosine', 'user_based': True})\n",
    "\n",
    "# Perform cross-validation\n",
    "results_knnm = cross_validate(algo_knnm, data, measures=['RMSE', 'MAE'], cv=5, verbose=True)"
   ]
  },
  {
   "cell_type": "code",
   "execution_count": null,
   "metadata": {},
   "outputs": [],
   "source": [
    "df.isna().sum()"
   ]
  },
  {
   "cell_type": "code",
   "execution_count": null,
   "metadata": {},
   "outputs": [],
   "source": [
    "# Define the Reader\n",
    "reader = Reader(rating_scale=(0, 1))\n",
    "\n",
    "# Load the dataset into Surprise\n",
    "data = Dataset.load_from_df(df[['UserID', 'Game', 'Ratings']], reader)\n",
    "\n",
    "# Configure KNNWithMeans\n",
    "algo_knnm = KNNWithMeans(sim_options={'name': 'cosine', 'user_based': True})\n",
    "\n",
    "# Perform cross-validation\n",
    "results_knnm = cross_validate(algo_knnm, data, measures=['RMSE', 'MAE'], cv=5, verbose=True)"
   ]
  },
  {
   "cell_type": "code",
   "execution_count": null,
   "metadata": {},
   "outputs": [],
   "source": [
    "rmse = svd_results['test_rmse']\n",
    "mae = svd_results['test_mae']\n",
    "\n",
    "plt.figure(figsize=(10, 5))\n",
    "plt.subplot(1, 2, 1)\n",
    "plt.boxplot(rmse)\n",
    "plt.title('RMSE')\n",
    "plt.subplot(1, 2, 2)\n",
    "plt.boxplot(mae)\n",
    "plt.title('MAE')\n",
    "plt.show()\n"
   ]
  },
  {
   "cell_type": "code",
   "execution_count": null,
   "metadata": {},
   "outputs": [],
   "source": [
    "rmse = results_knnm['test_rmse']\n",
    "mae = results_knnm['test_mae']\n",
    "\n",
    "plt.figure(figsize=(10, 5))\n",
    "plt.subplot(1, 2, 1)\n",
    "plt.boxplot(rmse)\n",
    "plt.title('RMSE')\n",
    "plt.subplot(1, 2, 2)\n",
    "plt.boxplot(mae)\n",
    "plt.title('MAE')\n",
    "plt.show()"
   ]
  },
  {
   "cell_type": "code",
   "execution_count": null,
   "metadata": {},
   "outputs": [],
   "source": [
    "trainset = data.build_full_trainset()\n",
    "algo_svd.fit(trainset)"
   ]
  },
  {
   "cell_type": "code",
   "execution_count": null,
   "metadata": {},
   "outputs": [],
   "source": [
    "# # Make a prediction for a specific user and item\n",
    "# user_id = '176449171'  # Replace with the actual user ID\n",
    "# game_id = 'Counter-Strike Global Offensive'  # Replace with the actual item ID\n",
    "# rating_prediction = algo.predict(user_id, game_id)\n",
    "# print(f\"The estimated rating for Game {game_id} by User {user_id} is {rating_prediction.est}\")"
   ]
  },
  {
   "cell_type": "code",
   "execution_count": null,
   "metadata": {},
   "outputs": [],
   "source": [
    "# param_grid = {'k': [20, 30, 40],  # Number of neighbors\n",
    "#               'sim_options': {'name': ['cosine', 'msd', 'pearson']}\n",
    "#              }\n",
    "\n",
    "# grid_search = GridSearchCV(KNNWithMeans, param_grid, measures=['rmse', 'mae'], cv=3, n_jobs=6)\n",
    "\n",
    "# grid_search.fit(data)"
   ]
  },
  {
   "cell_type": "code",
   "execution_count": null,
   "metadata": {},
   "outputs": [],
   "source": [
    "# # best RMSE score\n",
    "# print(grid_search.best_score[\"rmse\"])\n",
    "\n",
    "# # combination of parameters that gave the best RMSE score\n",
    "# print(grid_search.best_params[\"rmse\"])"
   ]
  },
  {
   "cell_type": "markdown",
   "metadata": {},
   "source": [
    "with the best params KNNwithMeans"
   ]
  },
  {
   "cell_type": "code",
   "execution_count": null,
   "metadata": {
    "scrolled": true
   },
   "outputs": [],
   "source": [
    "trainset, testset = train_test_split(data, test_size=0.2)\n",
    "\n",
    "# Configure KNNWithMeans\n",
    "algo_knnm_2 = KNNWithMeans(K=40 , sim_options={'name': 'msd', 'user_based': True})\n",
    "algo_knnm_2.fit(trainset)\n",
    "\n",
    "# Perform cross-validation\n",
    "results_knnm_2 = cross_validate(algo_knnm_2, data, measures=['RMSE', 'MAE'], cv=5, verbose=True)"
   ]
  },
  {
   "cell_type": "code",
   "execution_count": null,
   "metadata": {},
   "outputs": [],
   "source": [
    "# To make predictions for a specific game\n",
    "def predict_hours_for_game(algo, game, user_ids):\n",
    "    predictions = []\n",
    "    for user_id in user_ids:\n",
    "        predictions.append(algo.predict(uid=user_id, iid=game))\n",
    "    return predictions\n",
    "\n",
    "# Example usage\n",
    "game_of_interest = \"Fallout 4\"\n",
    "predicted_hours = predict_hours_for_game(algo_svd, game_of_interest, user_ids=play_data['UserID'].unique())\n",
    "\n",
    "# You can then sort these predictions based on the estimated hours\n",
    "sorted_predictions = sorted(predicted_hours, key=lambda x: x.est, reverse=True)\n",
    "\n",
    "# And recommend the game to top users\n",
    "top_user_recommendations = sorted_predictions[:5]  # Top 5 users"
   ]
  },
  {
   "cell_type": "code",
   "execution_count": null,
   "metadata": {},
   "outputs": [],
   "source": [
    "pd.DataFrame(top_user_recommendations)"
   ]
  },
  {
   "cell_type": "code",
   "execution_count": null,
   "metadata": {},
   "outputs": [],
   "source": []
  },
  {
   "cell_type": "code",
   "execution_count": null,
   "metadata": {},
   "outputs": [],
   "source": [
    "filtered_data.loc[filtered_data.Ratings>0.4]"
   ]
  },
  {
   "cell_type": "code",
   "execution_count": null,
   "metadata": {},
   "outputs": [],
   "source": [
    "# To make predictions for a specific game\n",
    "def predict_hours_for_game(algo, game, user_ids):\n",
    "    predictions = []\n",
    "    for user_id in user_ids:\n",
    "        predictions.append(algo_knnm_2.predict(uid=user_id, iid=game))\n",
    "    return predictions\n",
    "\n",
    "# Example usage\n",
    "game_of_interest = \"The Elder Scrolls V Skyrim\"\n",
    "predicted_hours = predict_hours_for_game(algo_knnm_2, game_of_interest, user_ids=filtered_data['UserID'].unique())\n",
    "\n",
    "# You can then sort these predictions based on the estimated hours\n",
    "sorted_predictions = sorted(predicted_hours, key=lambda x: x.est, reverse=True)\n",
    "\n",
    "# And recommend the game to top users\n",
    "top_user_recommendations = sorted_predictions[:20]  # Top 5 users"
   ]
  },
  {
   "cell_type": "code",
   "execution_count": null,
   "metadata": {},
   "outputs": [],
   "source": [
    "algo_knnm_2.predict(uid=user_id, iid=game_of_interest)"
   ]
  },
  {
   "cell_type": "code",
   "execution_count": null,
   "metadata": {},
   "outputs": [],
   "source": [
    "filtered_data.info()"
   ]
  },
  {
   "cell_type": "code",
   "execution_count": null,
   "metadata": {
    "scrolled": true
   },
   "outputs": [],
   "source": [
    "pd.DataFrame(sorted_predictions).info()"
   ]
  },
  {
   "cell_type": "code",
   "execution_count": 7,
   "metadata": {},
   "outputs": [],
   "source": [
    "filtered_data_new=pd.read_csv('./data/filtered_steam_games.csv' , index_col=0)"
   ]
  },
  {
   "cell_type": "code",
   "execution_count": 8,
   "metadata": {},
   "outputs": [
    {
     "data": {
      "image/png": "[encoded data removed]",
      "text/plain": [
       "<Figure size 432x288 with 1 Axes>"
      ]
     },
     "metadata": {
      "needs_background": "light"
     },
     "output_type": "display_data"
    }
   ],
   "source": [
    "# Calculate IQR for 'Hours'\n",
    "Q1 = filtered_data_new['Hours'].quantile(0.25)\n",
    "Q3 = filtered_data_new['Hours'].quantile(0.75)\n",
    "IQR = Q3 - Q1\n",
    "\n",
    "# Define an upper bound for outliers\n",
    "upper_bound = Q3 + 3 * IQR\n",
    "\n",
    "# Removing outliers from 'Hours'\n",
    "cleaned_dataset = filtered_data_new[filtered_data_new['Hours'] <= upper_bound]\n",
    "\n",
    "# New basic statistics  after removing outliers\n",
    "cleaned_numerical_stats = cleaned_dataset.describe()\n",
    "\n",
    "# Plotting the new distribution of 'Hours'\n",
    "plt.figure(figsize=(6, 4))\n",
    "sns.boxplot(x=cleaned_dataset['Hours'])\n",
    "plt.title('Boxplot of Hours Played After Removing Outliers')\n",
    "plt.show()"
   ]
  },
  {
   "cell_type": "code",
   "execution_count": 9,
   "metadata": {},
   "outputs": [
    {
     "data": {
      "text/html": [
       "<div>\n",
       "<style scoped>\n",
       "    .dataframe tbody tr th:only-of-type {\n",
       "        vertical-align: middle;\n",
       "    }\n",
       "\n",
       "    .dataframe tbody tr th {\n",
       "        vertical-align: top;\n",
       "    }\n",
       "\n",
       "    .dataframe thead th {\n",
       "        text-align: right;\n",
       "    }\n",
       "</style>\n",
       "<table border=\"1\" class=\"dataframe\">\n",
       "  <thead>\n",
       "    <tr style=\"text-align: right;\">\n",
       "      <th></th>\n",
       "      <th>UserID</th>\n",
       "      <th>Game</th>\n",
       "      <th>Hours</th>\n",
       "      <th>Min_Hours</th>\n",
       "      <th>Max_Hours</th>\n",
       "      <th>Ratings</th>\n",
       "    </tr>\n",
       "  </thead>\n",
       "  <tbody>\n",
       "    <tr>\n",
       "      <th>1</th>\n",
       "      <td>59945701</td>\n",
       "      <td>The Elder Scrolls V Skyrim</td>\n",
       "      <td>58.0</td>\n",
       "      <td>0.1</td>\n",
       "      <td>1986.0</td>\n",
       "      <td>0.029204</td>\n",
       "    </tr>\n",
       "    <tr>\n",
       "      <th>5</th>\n",
       "      <td>54103616</td>\n",
       "      <td>The Elder Scrolls V Skyrim</td>\n",
       "      <td>35.0</td>\n",
       "      <td>0.1</td>\n",
       "      <td>1986.0</td>\n",
       "      <td>0.017623</td>\n",
       "    </tr>\n",
       "    <tr>\n",
       "      <th>6</th>\n",
       "      <td>56038151</td>\n",
       "      <td>The Elder Scrolls V Skyrim</td>\n",
       "      <td>14.6</td>\n",
       "      <td>0.1</td>\n",
       "      <td>1986.0</td>\n",
       "      <td>0.007351</td>\n",
       "    </tr>\n",
       "    <tr>\n",
       "      <th>9</th>\n",
       "      <td>148510973</td>\n",
       "      <td>The Elder Scrolls V Skyrim</td>\n",
       "      <td>73.0</td>\n",
       "      <td>0.1</td>\n",
       "      <td>1986.0</td>\n",
       "      <td>0.036757</td>\n",
       "    </tr>\n",
       "    <tr>\n",
       "      <th>11</th>\n",
       "      <td>100519466</td>\n",
       "      <td>The Elder Scrolls V Skyrim</td>\n",
       "      <td>3.5</td>\n",
       "      <td>0.1</td>\n",
       "      <td>1986.0</td>\n",
       "      <td>0.001762</td>\n",
       "    </tr>\n",
       "    <tr>\n",
       "      <th>...</th>\n",
       "      <td>...</td>\n",
       "      <td>...</td>\n",
       "      <td>...</td>\n",
       "      <td>...</td>\n",
       "      <td>...</td>\n",
       "      <td>...</td>\n",
       "    </tr>\n",
       "    <tr>\n",
       "      <th>70424</th>\n",
       "      <td>60859695</td>\n",
       "      <td>Nancy Drew Ghost Dogs of Moon Lake</td>\n",
       "      <td>5.9</td>\n",
       "      <td>4.3</td>\n",
       "      <td>5.9</td>\n",
       "      <td>1.000000</td>\n",
       "    </tr>\n",
       "    <tr>\n",
       "      <th>70436</th>\n",
       "      <td>162081645</td>\n",
       "      <td>Haunt the House Terrortown</td>\n",
       "      <td>1.3</td>\n",
       "      <td>0.8</td>\n",
       "      <td>1.3</td>\n",
       "      <td>1.000000</td>\n",
       "    </tr>\n",
       "    <tr>\n",
       "      <th>70437</th>\n",
       "      <td>154230723</td>\n",
       "      <td>Haunt the House Terrortown</td>\n",
       "      <td>0.8</td>\n",
       "      <td>0.8</td>\n",
       "      <td>1.3</td>\n",
       "      <td>0.615385</td>\n",
       "    </tr>\n",
       "    <tr>\n",
       "      <th>70438</th>\n",
       "      <td>142793906</td>\n",
       "      <td>Aces Wild Manic Brawling Action!</td>\n",
       "      <td>0.5</td>\n",
       "      <td>0.2</td>\n",
       "      <td>0.5</td>\n",
       "      <td>1.000000</td>\n",
       "    </tr>\n",
       "    <tr>\n",
       "      <th>70439</th>\n",
       "      <td>154230723</td>\n",
       "      <td>Aces Wild Manic Brawling Action!</td>\n",
       "      <td>0.2</td>\n",
       "      <td>0.2</td>\n",
       "      <td>0.5</td>\n",
       "      <td>0.400000</td>\n",
       "    </tr>\n",
       "  </tbody>\n",
       "</table>\n",
       "<p>62408 rows × 6 columns</p>\n",
       "</div>"
      ],
      "text/plain": [
       "          UserID                                 Game  Hours  Min_Hours  \\\n",
       "1       59945701           The Elder Scrolls V Skyrim   58.0        0.1   \n",
       "5       54103616           The Elder Scrolls V Skyrim   35.0        0.1   \n",
       "6       56038151           The Elder Scrolls V Skyrim   14.6        0.1   \n",
       "9      148510973           The Elder Scrolls V Skyrim   73.0        0.1   \n",
       "11     100519466           The Elder Scrolls V Skyrim    3.5        0.1   \n",
       "...          ...                                  ...    ...        ...   \n",
       "70424   60859695  Nancy Drew Ghost Dogs of Moon Lake     5.9        4.3   \n",
       "70436  162081645           Haunt the House Terrortown    1.3        0.8   \n",
       "70437  154230723           Haunt the House Terrortown    0.8        0.8   \n",
       "70438  142793906     Aces Wild Manic Brawling Action!    0.5        0.2   \n",
       "70439  154230723     Aces Wild Manic Brawling Action!    0.2        0.2   \n",
       "\n",
       "       Max_Hours   Ratings  \n",
       "1         1986.0  0.029204  \n",
       "5         1986.0  0.017623  \n",
       "6         1986.0  0.007351  \n",
       "9         1986.0  0.036757  \n",
       "11        1986.0  0.001762  \n",
       "...          ...       ...  \n",
       "70424        5.9  1.000000  \n",
       "70436        1.3  1.000000  \n",
       "70437        1.3  0.615385  \n",
       "70438        0.5  1.000000  \n",
       "70439        0.5  0.400000  \n",
       "\n",
       "[62408 rows x 6 columns]"
      ]
     },
     "execution_count": 9,
     "metadata": {},
     "output_type": "execute_result"
    }
   ],
   "source": [
    "cleaned_dataset"
   ]
  },
  {
   "cell_type": "code",
   "execution_count": 10,
   "metadata": {},
   "outputs": [
    {
     "data": {
      "text/plain": [
       "<surprise.prediction_algorithms.matrix_factorization.SVDpp at 0x25c47d12880>"
      ]
     },
     "execution_count": 10,
     "metadata": {},
     "output_type": "execute_result"
    }
   ],
   "source": [
    "from surprise import SVDpp\n",
    "from surprise import Dataset\n",
    "\n",
    "# Load the full dataset from the dataframe\n",
    "reader = Reader(rating_scale=(cleaned_dataset['Ratings'].min(), cleaned_dataset['Ratings'].max()))\n",
    "data = Dataset.load_from_df(cleaned_dataset[['UserID', 'Game', 'Ratings']], reader)\n",
    "\n",
    "# Build the full trainset\n",
    "full_trainset = data.build_full_trainset()\n",
    "\n",
    "# Set up the SVD++ algorithm with the given best parameters\n",
    "algo = SVDpp(n_factors=50, n_epochs=30, lr_all=0.01, reg_all=0.1, random_state=42)\n",
    "\n",
    "# Fit the algorithm on the full trainset\n",
    "algo.fit(full_trainset)"
   ]
  },
  {
   "cell_type": "code",
   "execution_count": 5,
   "metadata": {},
   "outputs": [
    {
     "name": "stdout",
     "output_type": "stream",
     "text": [
      "User: 255582025\n",
      "\tGame: Carpe Diem, Estimated Rating: 0.6732494978661697\n",
      "\tGame: Metal Gear Solid Legacy, Estimated Rating: 0.5919861294742585\n",
      "\tGame: A Valley Without Wind, Estimated Rating: 0.5884847946254377\n",
      "\tGame: Aeon Command, Estimated Rating: 0.5799508246239671\n",
      "\tGame: F1 2010, Estimated Rating: 0.577709827174128\n",
      "\tGame: Back to the Future Ep 5 - OUTATIME, Estimated Rating: 0.5698373026491923\n",
      "\tGame: Let the Cat In, Estimated Rating: 0.5661405771128214\n",
      "\tGame: New kind of adventure, Estimated Rating: 0.562084249454559\n",
      "\tGame: Teslagrad, Estimated Rating: 0.5597878201072802\n",
      "\tGame: Morphopolis, Estimated Rating: 0.5596296281180748\n",
      "User: 293705270\n",
      "\tGame: Color Symphony, Estimated Rating: 0.6813436214061618\n",
      "\tGame: Layers of Fear, Estimated Rating: 0.609666690072292\n",
      "\tGame: Back to the Future Ep 3 - Citizen Brown, Estimated Rating: 0.5863737761427482\n",
      "\tGame: Aeon Command, Estimated Rating: 0.5781977812858163\n",
      "\tGame: Let the Cat In, Estimated Rating: 0.5656618299799956\n",
      "\tGame: Metal Gear Solid Legacy, Estimated Rating: 0.5623563117586129\n",
      "\tGame: Battle Battalions, Estimated Rating: 0.5617795130097807\n",
      "\tGame: Morphopolis, Estimated Rating: 0.5597201463331657\n",
      "\tGame: Gladiators Online Death Before Dishonor, Estimated Rating: 0.5596032195207764\n",
      "\tGame: Back to the Future Ep 1 - It's About Time, Estimated Rating: 0.5534447399066718\n",
      "User: 197871154\n",
      "\tGame: Battle Battalions, Estimated Rating: 0.6418865093350938\n",
      "\tGame: Aeon Command, Estimated Rating: 0.6304012131820489\n",
      "\tGame: Back to the Future Ep 1 - It's About Time, Estimated Rating: 0.6050410305952595\n",
      "\tGame: Dr. Langeskov, The Tiger, and The Terribly Cursed Emerald A Whirlwind Heist, Estimated Rating: 0.6027895820514172\n",
      "\tGame: Gladiators Online Death Before Dishonor, Estimated Rating: 0.5997906505813398\n",
      "\tGame: The Old Tree, Estimated Rating: 0.595845297578852\n",
      "\tGame: Serious Sam Double D XXL, Estimated Rating: 0.5832905821680225\n",
      "\tGame: NEO Scavenger, Estimated Rating: 0.5796773609022183\n",
      "\tGame: Let the Cat In, Estimated Rating: 0.579645732738779\n",
      "\tGame: Sam & Max 101 Culture Shock, Estimated Rating: 0.565739818840557\n",
      "User: 10181060\n",
      "\tGame: Holy Potatoes! A Weapon Shop?!, Estimated Rating: 0.6928876889762042\n",
      "\tGame: Color Symphony, Estimated Rating: 0.6426987011277112\n",
      "\tGame: Back to the Future Ep 1 - It's About Time, Estimated Rating: 0.6295244946031655\n",
      "\tGame: Plug & Play, Estimated Rating: 0.6193892716875321\n",
      "\tGame: Teslagrad, Estimated Rating: 0.6188501558087605\n",
      "\tGame: Metal Gear Solid Legacy, Estimated Rating: 0.5995650323898797\n",
      "\tGame: THE KING OF FIGHTERS 2002 UNLIMITED MATCH, Estimated Rating: 0.5918704357229553\n",
      "\tGame: Cinders, Estimated Rating: 0.5912641192974022\n",
      "\tGame: A Valley Without Wind, Estimated Rating: 0.5900119727491244\n",
      "\tGame: The Old Tree, Estimated Rating: 0.5859454030371563\n",
      "User: 155036762\n",
      "\tGame: Color Symphony, Estimated Rating: 0.6424079155531079\n",
      "\tGame: Plug & Play, Estimated Rating: 0.5886142064547224\n",
      "\tGame: Battle Battalions, Estimated Rating: 0.5642112282169937\n",
      "\tGame: Aeon Command, Estimated Rating: 0.5595283931537315\n",
      "\tGame: Secrets of Rtikon, Estimated Rating: 0.559223800771057\n",
      "\tGame: Gladiators Online Death Before Dishonor, Estimated Rating: 0.5544349862749076\n",
      "\tGame: Bob Came in Pieces, Estimated Rating: 0.5533813150748556\n",
      "\tGame: Back to the Future Ep 3 - Citizen Brown, Estimated Rating: 0.553291629243621\n",
      "\tGame: Arma 2 British Armed Forces, Estimated Rating: 0.5524550525074028\n",
      "\tGame: bit Dungeon II, Estimated Rating: 0.5427579919442393\n"
     ]
    }
   ],
   "source": [
    "import random\n",
    "from collections import defaultdict\n",
    "\n",
    "def get_recommendations_for_random_users(algo, full_trainset, n=10, num_users=5):\n",
    "    \"\"\"Generate top-n recommendations for a random sample of users.\"\"\"\n",
    "    top_n = defaultdict(list)\n",
    "    \n",
    "    # Get a random sample of users from the trainset\n",
    "    all_users = list(full_trainset.all_users())\n",
    "    random_users = random.sample(all_users, num_users)\n",
    "    \n",
    "    for inner_uid in random_users:\n",
    "        # Retrieve the inner ids of items that the user has already rated\n",
    "        user_items = set([j for (j, _) in full_trainset.ur[inner_uid]])\n",
    "        # Predict ratings for all items the user hasn't rated\n",
    "        user_ratings = [(full_trainset.to_raw_iid(inner_iid), algo.predict(full_trainset.to_raw_uid(inner_uid), full_trainset.to_raw_iid(inner_iid)).est)\n",
    "                        for inner_iid in full_trainset.all_items()\n",
    "                        if inner_iid not in user_items]\n",
    "        # Retrieve the top N highest-rated items for this user\n",
    "        top_n[full_trainset.to_raw_uid(inner_uid)].extend(sorted(user_ratings, key=lambda x: x[1], reverse=True)[:n])\n",
    "    \n",
    "    return top_n\n",
    "\n",
    "# Generate recommendations for a random sample of users\n",
    "num_random_users = 5 \n",
    "random_user_recommendations = get_recommendations_for_random_users(algo, full_trainset, n=10, num_users=num_random_users)\n",
    "\n",
    "# Display the recommendations for the sampled users\n",
    "for user, user_recommendations in random_user_recommendations.items():\n",
    "    print(f\"User: {user}\")\n",
    "    for item, rating in user_recommendations:\n",
    "        print(f\"\\tGame: {item}, Estimated Rating: {rating}\")"
   ]
  },
  {
   "cell_type": "code",
   "execution_count": 7,
   "metadata": {},
   "outputs": [
    {
     "name": "stdout",
     "output_type": "stream",
     "text": [
      "Requirement already satisfied: gradio in c:\\users\\windows-10\\anaconda3\\envs\\learn-env\\lib\\site-packages (4.15.0)\n",
      "Requirement already satisfied: numpy~=1.0 in c:\\users\\windows-10\\anaconda3\\envs\\learn-env\\lib\\site-packages (from gradio) (1.18.5)\n",
      "Requirement already satisfied: fastapi in c:\\users\\windows-10\\anaconda3\\envs\\learn-env\\lib\\site-packages (from gradio) (0.109.0)\n",
      "Requirement already satisfied: pyyaml<7.0,>=5.0 in c:\\users\\windows-10\\anaconda3\\envs\\learn-env\\lib\\site-packages (from gradio) (5.3.1)\n",
      "Requirement already satisfied: packaging in c:\\users\\windows-10\\anaconda3\\envs\\learn-env\\lib\\site-packages (from gradio) (20.4)\n",
      "Requirement already satisfied: pydub in c:\\users\\windows-10\\anaconda3\\envs\\learn-env\\lib\\site-packages (from gradio) (0.25.1)\n",
      "Requirement already satisfied: orjson~=3.0 in c:\\users\\windows-10\\anaconda3\\envs\\learn-env\\lib\\site-packages (from gradio) (3.9.12)\n",
      "Requirement already satisfied: markupsafe~=2.0 in c:\\users\\windows-10\\anaconda3\\envs\\learn-env\\lib\\site-packages (from gradio) (2.1.4)\n",
      "Requirement already satisfied: python-multipart in c:\\users\\windows-10\\anaconda3\\envs\\learn-env\\lib\\site-packages (from gradio) (0.0.6)\n",
      "Requirement already satisfied: pandas<3.0,>=1.0 in c:\\users\\windows-10\\anaconda3\\envs\\learn-env\\lib\\site-packages (from gradio) (1.1.3)\n",
      "Requirement already satisfied: tomlkit==0.12.0 in c:\\users\\windows-10\\anaconda3\\envs\\learn-env\\lib\\site-packages (from gradio) (0.12.0)\n",
      "Requirement already satisfied: aiofiles<24.0,>=22.0 in c:\\users\\windows-10\\anaconda3\\envs\\learn-env\\lib\\site-packages (from gradio) (23.2.1)\n",
      "Requirement already satisfied: jinja2<4.0 in c:\\users\\windows-10\\anaconda3\\envs\\learn-env\\lib\\site-packages (from gradio) (2.11.2)\n",
      "Requirement already satisfied: ffmpy in c:\\users\\windows-10\\anaconda3\\envs\\learn-env\\lib\\site-packages (from gradio) (0.3.1)\n",
      "Requirement already satisfied: altair<6.0,>=4.2.0 in c:\\users\\windows-10\\anaconda3\\envs\\learn-env\\lib\\site-packages (from gradio) (5.2.0)\n",
      "Requirement already satisfied: importlib-resources<7.0,>=1.3 in c:\\users\\windows-10\\anaconda3\\envs\\learn-env\\lib\\site-packages (from gradio) (6.1.1)\n",
      "Requirement already satisfied: pillow<11.0,>=8.0 in c:\\users\\windows-10\\anaconda3\\envs\\learn-env\\lib\\site-packages (from gradio) (8.0.0)\n",
      "Requirement already satisfied: httpx in c:\\users\\windows-10\\anaconda3\\envs\\learn-env\\lib\\site-packages (from gradio) (0.26.0)\n",
      "Requirement already satisfied: typing-extensions~=4.0 in c:\\users\\windows-10\\anaconda3\\envs\\learn-env\\lib\\site-packages (from gradio) (4.9.0)\n",
      "Requirement already satisfied: huggingface-hub>=0.19.3 in c:\\users\\windows-10\\anaconda3\\envs\\learn-env\\lib\\site-packages (from gradio) (0.20.3)\n",
      "Requirement already satisfied: uvicorn>=0.14.0 in c:\\users\\windows-10\\anaconda3\\envs\\learn-env\\lib\\site-packages (from gradio) (0.27.0)\n",
      "Requirement already satisfied: matplotlib~=3.0 in c:\\users\\windows-10\\anaconda3\\envs\\learn-env\\lib\\site-packages (from gradio) (3.3.1)\n",
      "Requirement already satisfied: ruff>=0.1.7 in c:\\users\\windows-10\\anaconda3\\envs\\learn-env\\lib\\site-packages (from gradio) (0.1.14)\n",
      "Requirement already satisfied: pydantic>=2.0 in c:\\users\\windows-10\\anaconda3\\envs\\learn-env\\lib\\site-packages (from gradio) (2.5.3)\n",
      "Requirement already satisfied: typer[all]<1.0,>=0.9 in c:\\users\\windows-10\\anaconda3\\envs\\learn-env\\lib\\site-packages (from gradio) (0.9.0)\n",
      "Requirement already satisfied: gradio-client==0.8.1 in c:\\users\\windows-10\\anaconda3\\envs\\learn-env\\lib\\site-packages (from gradio) (0.8.1)\n",
      "Requirement already satisfied: semantic-version~=2.0 in c:\\users\\windows-10\\anaconda3\\envs\\learn-env\\lib\\site-packages (from gradio) (2.10.0)\n",
      "Requirement already satisfied: starlette<0.36.0,>=0.35.0 in c:\\users\\windows-10\\anaconda3\\envs\\learn-env\\lib\\site-packages (from fastapi->gradio) (0.35.1)\n",
      "Requirement already satisfied: pyparsing>=2.0.2 in c:\\users\\windows-10\\anaconda3\\envs\\learn-env\\lib\\site-packages (from packaging->gradio) (2.4.7)\n",
      "Requirement already satisfied: six in c:\\users\\windows-10\\anaconda3\\envs\\learn-env\\lib\\site-packages (from packaging->gradio) (1.15.0)\n",
      "Requirement already satisfied: python-dateutil>=2.7.3 in c:\\users\\windows-10\\anaconda3\\envs\\learn-env\\lib\\site-packages (from pandas<3.0,>=1.0->gradio) (2.8.1)\n",
      "Requirement already satisfied: pytz>=2017.2 in c:\\users\\windows-10\\anaconda3\\envs\\learn-env\\lib\\site-packages (from pandas<3.0,>=1.0->gradio) (2020.1)\n",
      "Requirement already satisfied: toolz in c:\\users\\windows-10\\anaconda3\\envs\\learn-env\\lib\\site-packages (from altair<6.0,>=4.2.0->gradio) (0.12.1)\n",
      "Requirement already satisfied: jsonschema>=3.0 in c:\\users\\windows-10\\anaconda3\\envs\\learn-env\\lib\\site-packages (from altair<6.0,>=4.2.0->gradio) (3.2.0)\n",
      "Requirement already satisfied: zipp>=3.1.0; python_version < \"3.10\" in c:\\users\\windows-10\\anaconda3\\envs\\learn-env\\lib\\site-packages (from importlib-resources<7.0,>=1.3->gradio) (3.3.0)\n",
      "Requirement already satisfied: certifi in c:\\users\\windows-10\\anaconda3\\envs\\learn-env\\lib\\site-packages (from httpx->gradio) (2020.6.20)\n",
      "Requirement already satisfied: sniffio in c:\\users\\windows-10\\anaconda3\\envs\\learn-env\\lib\\site-packages (from httpx->gradio) (1.3.0)\n",
      "Requirement already satisfied: idna in c:\\users\\windows-10\\anaconda3\\envs\\learn-env\\lib\\site-packages (from httpx->gradio) (2.10)\n",
      "Requirement already satisfied: anyio in c:\\users\\windows-10\\anaconda3\\envs\\learn-env\\lib\\site-packages (from httpx->gradio) (4.2.0)\n",
      "Requirement already satisfied: httpcore==1.* in c:\\users\\windows-10\\anaconda3\\envs\\learn-env\\lib\\site-packages (from httpx->gradio) (1.0.2)\n",
      "Requirement already satisfied: filelock in c:\\users\\windows-10\\anaconda3\\envs\\learn-env\\lib\\site-packages (from huggingface-hub>=0.19.3->gradio) (3.13.1)\n",
      "Requirement already satisfied: fsspec>=2023.5.0 in c:\\users\\windows-10\\anaconda3\\envs\\learn-env\\lib\\site-packages (from huggingface-hub>=0.19.3->gradio) (2023.12.2)\n",
      "Requirement already satisfied: tqdm>=4.42.1 in c:\\users\\windows-10\\anaconda3\\envs\\learn-env\\lib\\site-packages (from huggingface-hub>=0.19.3->gradio) (4.50.2)\n",
      "Requirement already satisfied: requests in c:\\users\\windows-10\\anaconda3\\envs\\learn-env\\lib\\site-packages (from huggingface-hub>=0.19.3->gradio) (2.24.0)\n",
      "Requirement already satisfied: click>=7.0 in c:\\users\\windows-10\\anaconda3\\envs\\learn-env\\lib\\site-packages (from uvicorn>=0.14.0->gradio) (7.1.2)\n",
      "Requirement already satisfied: h11>=0.8 in c:\\users\\windows-10\\anaconda3\\envs\\learn-env\\lib\\site-packages (from uvicorn>=0.14.0->gradio) (0.14.0)\n",
      "Requirement already satisfied: kiwisolver>=1.0.1 in c:\\users\\windows-10\\anaconda3\\envs\\learn-env\\lib\\site-packages (from matplotlib~=3.0->gradio) (1.2.0)\n",
      "Requirement already satisfied: cycler>=0.10 in c:\\users\\windows-10\\anaconda3\\envs\\learn-env\\lib\\site-packages (from matplotlib~=3.0->gradio) (0.10.0)\n",
      "Requirement already satisfied: pydantic-core==2.14.6 in c:\\users\\windows-10\\anaconda3\\envs\\learn-env\\lib\\site-packages (from pydantic>=2.0->gradio) (2.14.6)\n",
      "Requirement already satisfied: annotated-types>=0.4.0 in c:\\users\\windows-10\\anaconda3\\envs\\learn-env\\lib\\site-packages (from pydantic>=2.0->gradio) (0.6.0)\n",
      "Requirement already satisfied: colorama<0.5.0,>=0.4.3; extra == \"all\" in c:\\users\\windows-10\\anaconda3\\envs\\learn-env\\lib\\site-packages (from typer[all]<1.0,>=0.9->gradio) (0.4.3)\n",
      "Requirement already satisfied: shellingham<2.0.0,>=1.3.0; extra == \"all\" in c:\\users\\windows-10\\anaconda3\\envs\\learn-env\\lib\\site-packages (from typer[all]<1.0,>=0.9->gradio) (1.5.4)\n",
      "Requirement already satisfied: rich<14.0.0,>=10.11.0; extra == \"all\" in c:\\users\\windows-10\\anaconda3\\envs\\learn-env\\lib\\site-packages (from typer[all]<1.0,>=0.9->gradio) (13.7.0)\n",
      "Requirement already satisfied: websockets<12.0,>=10.0 in c:\\users\\windows-10\\anaconda3\\envs\\learn-env\\lib\\site-packages (from gradio-client==0.8.1->gradio) (11.0.3)\n",
      "Requirement already satisfied: attrs>=17.4.0 in c:\\users\\windows-10\\anaconda3\\envs\\learn-env\\lib\\site-packages (from jsonschema>=3.0->altair<6.0,>=4.2.0->gradio) (20.2.0)\n",
      "Requirement already satisfied: pyrsistent>=0.14.0 in c:\\users\\windows-10\\anaconda3\\envs\\learn-env\\lib\\site-packages (from jsonschema>=3.0->altair<6.0,>=4.2.0->gradio) (0.17.3)\n",
      "Requirement already satisfied: setuptools in c:\\users\\windows-10\\anaconda3\\envs\\learn-env\\lib\\site-packages (from jsonschema>=3.0->altair<6.0,>=4.2.0->gradio) (50.3.0.post20201103)\n",
      "Requirement already satisfied: exceptiongroup>=1.0.2; python_version < \"3.11\" in c:\\users\\windows-10\\anaconda3\\envs\\learn-env\\lib\\site-packages (from anyio->httpx->gradio) (1.2.0)\n",
      "Requirement already satisfied: chardet<4,>=3.0.2 in c:\\users\\windows-10\\anaconda3\\envs\\learn-env\\lib\\site-packages (from requests->huggingface-hub>=0.19.3->gradio) (3.0.4)\n",
      "Requirement already satisfied: urllib3!=1.25.0,!=1.25.1,<1.26,>=1.21.1 in c:\\users\\windows-10\\anaconda3\\envs\\learn-env\\lib\\site-packages (from requests->huggingface-hub>=0.19.3->gradio) (1.25.10)\n",
      "Requirement already satisfied: markdown-it-py>=2.2.0 in c:\\users\\windows-10\\anaconda3\\envs\\learn-env\\lib\\site-packages (from rich<14.0.0,>=10.11.0; extra == \"all\"->typer[all]<1.0,>=0.9->gradio) (3.0.0)\n",
      "Requirement already satisfied: pygments<3.0.0,>=2.13.0 in c:\\users\\windows-10\\anaconda3\\envs\\learn-env\\lib\\site-packages (from rich<14.0.0,>=10.11.0; extra == \"all\"->typer[all]<1.0,>=0.9->gradio) (2.17.2)\n",
      "Requirement already satisfied: mdurl~=0.1 in c:\\users\\windows-10\\anaconda3\\envs\\learn-env\\lib\\site-packages (from markdown-it-py>=2.2.0->rich<14.0.0,>=10.11.0; extra == \"all\"->typer[all]<1.0,>=0.9->gradio) (0.1.2)\n",
      "Note: you may need to restart the kernel to use updated packages.\n"
     ]
    }
   ],
   "source": [
    "pip install gradio"
   ]
  },
  {
   "cell_type": "code",
   "execution_count": 8,
   "metadata": {},
   "outputs": [
    {
     "name": "stdout",
     "output_type": "stream",
     "text": [
      "Requirement already satisfied: markupsafe in c:\\users\\windows-10\\anaconda3\\envs\\learn-env\\lib\\site-packages (2.1.4)\n",
      "Note: you may need to restart the kernel to use updated packages.\n"
     ]
    }
   ],
   "source": [
    "pip install markupsafe"
   ]
  },
  {
   "cell_type": "code",
   "execution_count": 16,
   "metadata": {},
   "outputs": [
    {
     "data": {
      "text/plain": [
       "Index(['UserID', 'Game', 'Hours', 'Min_Hours', 'Max_Hours', 'Ratings'], dtype='object')"
      ]
     },
     "execution_count": 16,
     "metadata": {},
     "output_type": "execute_result"
    }
   ],
   "source": [
    "filtered_data_new.columns"
   ]
  },
  {
   "cell_type": "code",
   "execution_count": 11,
   "metadata": {},
   "outputs": [
    {
     "ename": "ImportError",
     "evalue": "cannot import name 'soft_unicode' from 'markupsafe' (C:\\Users\\Windows-10\\anaconda3\\envs\\learn-env\\lib\\site-packages\\markupsafe\\__init__.py)",
     "output_type": "error",
     "traceback": [
      "\u001b[1;31m---------------------------------------------------------------------------\u001b[0m",
      "\u001b[1;31mImportError\u001b[0m                               Traceback (most recent call last)",
      "\u001b[1;32m<ipython-input-11-7b1b46ba7ba1>\u001b[0m in \u001b[0;36m<module>\u001b[1;34m\u001b[0m\n\u001b[1;32m----> 1\u001b[1;33m \u001b[1;32mimport\u001b[0m \u001b[0mgradio\u001b[0m \u001b[1;32mas\u001b[0m \u001b[0mgr\u001b[0m\u001b[1;33m\u001b[0m\u001b[1;33m\u001b[0m\u001b[0m\n\u001b[0m\u001b[0;32m      2\u001b[0m \u001b[1;33m\u001b[0m\u001b[0m\n\u001b[0;32m      3\u001b[0m \u001b[1;32mdef\u001b[0m \u001b[0mgreet\u001b[0m\u001b[1;33m(\u001b[0m\u001b[0mname\u001b[0m\u001b[1;33m,\u001b[0m \u001b[0mintensity\u001b[0m\u001b[1;33m)\u001b[0m\u001b[1;33m:\u001b[0m\u001b[1;33m\u001b[0m\u001b[1;33m\u001b[0m\u001b[0m\n\u001b[0;32m      4\u001b[0m     \u001b[1;32mreturn\u001b[0m \u001b[1;34m\"Hello \"\u001b[0m \u001b[1;33m*\u001b[0m \u001b[0mintensity\u001b[0m \u001b[1;33m+\u001b[0m \u001b[0mname\u001b[0m \u001b[1;33m+\u001b[0m \u001b[1;34m\"!\"\u001b[0m\u001b[1;33m\u001b[0m\u001b[1;33m\u001b[0m\u001b[0m\n\u001b[0;32m      5\u001b[0m \u001b[1;33m\u001b[0m\u001b[0m\n",
      "\u001b[1;32m~\\anaconda3\\envs\\learn-env\\lib\\site-packages\\gradio\\__init__.py\u001b[0m in \u001b[0;36m<module>\u001b[1;34m\u001b[0m\n\u001b[0;32m      1\u001b[0m \u001b[1;32mimport\u001b[0m \u001b[0mjson\u001b[0m\u001b[1;33m\u001b[0m\u001b[1;33m\u001b[0m\u001b[0m\n\u001b[0;32m      2\u001b[0m \u001b[1;33m\u001b[0m\u001b[0m\n\u001b[1;32m----> 3\u001b[1;33m \u001b[1;32mimport\u001b[0m \u001b[0mgradio\u001b[0m\u001b[1;33m.\u001b[0m\u001b[0m_simple_templates\u001b[0m\u001b[1;33m\u001b[0m\u001b[1;33m\u001b[0m\u001b[0m\n\u001b[0m\u001b[0;32m      4\u001b[0m \u001b[1;32mimport\u001b[0m \u001b[0mgradio\u001b[0m\u001b[1;33m.\u001b[0m\u001b[0mcomponents\u001b[0m \u001b[1;32mas\u001b[0m \u001b[0mcomponents\u001b[0m\u001b[1;33m\u001b[0m\u001b[1;33m\u001b[0m\u001b[0m\n\u001b[0;32m      5\u001b[0m \u001b[1;32mimport\u001b[0m \u001b[0mgradio\u001b[0m\u001b[1;33m.\u001b[0m\u001b[0mimage_utils\u001b[0m\u001b[1;33m\u001b[0m\u001b[1;33m\u001b[0m\u001b[0m\n",
      "\u001b[1;32m~\\anaconda3\\envs\\learn-env\\lib\\site-packages\\gradio\\_simple_templates\\__init__.py\u001b[0m in \u001b[0;36m<module>\u001b[1;34m\u001b[0m\n\u001b[1;32m----> 1\u001b[1;33m \u001b[1;32mfrom\u001b[0m \u001b[1;33m.\u001b[0m\u001b[0msimpledropdown\u001b[0m \u001b[1;32mimport\u001b[0m \u001b[0mSimpleDropdown\u001b[0m\u001b[1;33m\u001b[0m\u001b[1;33m\u001b[0m\u001b[0m\n\u001b[0m\u001b[0;32m      2\u001b[0m \u001b[1;32mfrom\u001b[0m \u001b[1;33m.\u001b[0m\u001b[0msimpletextbox\u001b[0m \u001b[1;32mimport\u001b[0m \u001b[0mSimpleTextbox\u001b[0m\u001b[1;33m\u001b[0m\u001b[1;33m\u001b[0m\u001b[0m\n\u001b[0;32m      3\u001b[0m \u001b[1;33m\u001b[0m\u001b[0m\n\u001b[0;32m      4\u001b[0m \u001b[0m__all__\u001b[0m \u001b[1;33m=\u001b[0m \u001b[1;33m[\u001b[0m\u001b[1;34m\"SimpleDropdown\"\u001b[0m\u001b[1;33m,\u001b[0m \u001b[1;34m\"SimpleTextbox\"\u001b[0m\u001b[1;33m]\u001b[0m\u001b[1;33m\u001b[0m\u001b[1;33m\u001b[0m\u001b[0m\n",
      "\u001b[1;32m~\\anaconda3\\envs\\learn-env\\lib\\site-packages\\gradio\\_simple_templates\\simpledropdown.py\u001b[0m in \u001b[0;36m<module>\u001b[1;34m\u001b[0m\n\u001b[0;32m      4\u001b[0m \u001b[1;32mfrom\u001b[0m \u001b[0mtyping\u001b[0m \u001b[1;32mimport\u001b[0m \u001b[0mAny\u001b[0m\u001b[1;33m,\u001b[0m \u001b[0mCallable\u001b[0m\u001b[1;33m\u001b[0m\u001b[1;33m\u001b[0m\u001b[0m\n\u001b[0;32m      5\u001b[0m \u001b[1;33m\u001b[0m\u001b[0m\n\u001b[1;32m----> 6\u001b[1;33m \u001b[1;32mfrom\u001b[0m \u001b[0mgradio\u001b[0m\u001b[1;33m.\u001b[0m\u001b[0mcomponents\u001b[0m\u001b[1;33m.\u001b[0m\u001b[0mbase\u001b[0m \u001b[1;32mimport\u001b[0m \u001b[0mFormComponent\u001b[0m\u001b[1;33m\u001b[0m\u001b[1;33m\u001b[0m\u001b[0m\n\u001b[0m\u001b[0;32m      7\u001b[0m \u001b[1;32mfrom\u001b[0m \u001b[0mgradio\u001b[0m\u001b[1;33m.\u001b[0m\u001b[0mevents\u001b[0m \u001b[1;32mimport\u001b[0m \u001b[0mEvents\u001b[0m\u001b[1;33m\u001b[0m\u001b[1;33m\u001b[0m\u001b[0m\n\u001b[0;32m      8\u001b[0m \u001b[1;33m\u001b[0m\u001b[0m\n",
      "\u001b[1;32m~\\anaconda3\\envs\\learn-env\\lib\\site-packages\\gradio\\components\\__init__.py\u001b[0m in \u001b[0;36m<module>\u001b[1;34m\u001b[0m\n\u001b[1;32m----> 1\u001b[1;33m \u001b[1;32mfrom\u001b[0m \u001b[0mgradio\u001b[0m\u001b[1;33m.\u001b[0m\u001b[0mcomponents\u001b[0m\u001b[1;33m.\u001b[0m\u001b[0mannotated_image\u001b[0m \u001b[1;32mimport\u001b[0m \u001b[0mAnnotatedImage\u001b[0m\u001b[1;33m\u001b[0m\u001b[1;33m\u001b[0m\u001b[0m\n\u001b[0m\u001b[0;32m      2\u001b[0m \u001b[1;32mfrom\u001b[0m \u001b[0mgradio\u001b[0m\u001b[1;33m.\u001b[0m\u001b[0mcomponents\u001b[0m\u001b[1;33m.\u001b[0m\u001b[0maudio\u001b[0m \u001b[1;32mimport\u001b[0m \u001b[0mAudio\u001b[0m\u001b[1;33m\u001b[0m\u001b[1;33m\u001b[0m\u001b[0m\n\u001b[0;32m      3\u001b[0m \u001b[1;32mfrom\u001b[0m \u001b[0mgradio\u001b[0m\u001b[1;33m.\u001b[0m\u001b[0mcomponents\u001b[0m\u001b[1;33m.\u001b[0m\u001b[0mbar_plot\u001b[0m \u001b[1;32mimport\u001b[0m \u001b[0mBarPlot\u001b[0m\u001b[1;33m\u001b[0m\u001b[1;33m\u001b[0m\u001b[0m\n\u001b[0;32m      4\u001b[0m from gradio.components.base import (\n\u001b[0;32m      5\u001b[0m     \u001b[0mComponent\u001b[0m\u001b[1;33m,\u001b[0m\u001b[1;33m\u001b[0m\u001b[1;33m\u001b[0m\u001b[0m\n",
      "\u001b[1;32m~\\anaconda3\\envs\\learn-env\\lib\\site-packages\\gradio\\components\\annotated_image.py\u001b[0m in \u001b[0;36m<module>\u001b[1;34m\u001b[0m\n\u001b[0;32m     10\u001b[0m \u001b[1;33m\u001b[0m\u001b[0m\n\u001b[0;32m     11\u001b[0m \u001b[1;32mfrom\u001b[0m \u001b[0mgradio\u001b[0m \u001b[1;32mimport\u001b[0m \u001b[0mprocessing_utils\u001b[0m\u001b[1;33m,\u001b[0m \u001b[0mutils\u001b[0m\u001b[1;33m\u001b[0m\u001b[1;33m\u001b[0m\u001b[0m\n\u001b[1;32m---> 12\u001b[1;33m \u001b[1;32mfrom\u001b[0m \u001b[0mgradio\u001b[0m\u001b[1;33m.\u001b[0m\u001b[0mcomponents\u001b[0m\u001b[1;33m.\u001b[0m\u001b[0mbase\u001b[0m \u001b[1;32mimport\u001b[0m \u001b[0mComponent\u001b[0m\u001b[1;33m\u001b[0m\u001b[1;33m\u001b[0m\u001b[0m\n\u001b[0m\u001b[0;32m     13\u001b[0m \u001b[1;32mfrom\u001b[0m \u001b[0mgradio\u001b[0m\u001b[1;33m.\u001b[0m\u001b[0mdata_classes\u001b[0m \u001b[1;32mimport\u001b[0m \u001b[0mFileData\u001b[0m\u001b[1;33m,\u001b[0m \u001b[0mGradioModel\u001b[0m\u001b[1;33m\u001b[0m\u001b[1;33m\u001b[0m\u001b[0m\n\u001b[0;32m     14\u001b[0m \u001b[1;32mfrom\u001b[0m \u001b[0mgradio\u001b[0m\u001b[1;33m.\u001b[0m\u001b[0mevents\u001b[0m \u001b[1;32mimport\u001b[0m \u001b[0mEvents\u001b[0m\u001b[1;33m\u001b[0m\u001b[1;33m\u001b[0m\u001b[0m\n",
      "\u001b[1;32m~\\anaconda3\\envs\\learn-env\\lib\\site-packages\\gradio\\components\\base.py\u001b[0m in \u001b[0;36m<module>\u001b[1;34m\u001b[0m\n\u001b[0;32m     19\u001b[0m \u001b[1;33m\u001b[0m\u001b[0m\n\u001b[0;32m     20\u001b[0m \u001b[1;32mfrom\u001b[0m \u001b[0mgradio\u001b[0m \u001b[1;32mimport\u001b[0m \u001b[0mutils\u001b[0m\u001b[1;33m\u001b[0m\u001b[1;33m\u001b[0m\u001b[0m\n\u001b[1;32m---> 21\u001b[1;33m \u001b[1;32mfrom\u001b[0m \u001b[0mgradio\u001b[0m\u001b[1;33m.\u001b[0m\u001b[0mblocks\u001b[0m \u001b[1;32mimport\u001b[0m \u001b[0mBlock\u001b[0m\u001b[1;33m,\u001b[0m \u001b[0mBlockContext\u001b[0m\u001b[1;33m\u001b[0m\u001b[1;33m\u001b[0m\u001b[0m\n\u001b[0m\u001b[0;32m     22\u001b[0m \u001b[1;32mfrom\u001b[0m \u001b[0mgradio\u001b[0m\u001b[1;33m.\u001b[0m\u001b[0mcomponent_meta\u001b[0m \u001b[1;32mimport\u001b[0m \u001b[0mComponentMeta\u001b[0m\u001b[1;33m\u001b[0m\u001b[1;33m\u001b[0m\u001b[0m\n\u001b[0;32m     23\u001b[0m \u001b[1;32mfrom\u001b[0m \u001b[0mgradio\u001b[0m\u001b[1;33m.\u001b[0m\u001b[0mdata_classes\u001b[0m \u001b[1;32mimport\u001b[0m \u001b[0mGradioDataModel\u001b[0m\u001b[1;33m\u001b[0m\u001b[1;33m\u001b[0m\u001b[0m\n",
      "\u001b[1;32m~\\anaconda3\\envs\\learn-env\\lib\\site-packages\\gradio\\blocks.py\u001b[0m in \u001b[0;36m<module>\u001b[1;34m\u001b[0m\n\u001b[0;32m     27\u001b[0m \u001b[1;32mfrom\u001b[0m \u001b[0mgradio_client\u001b[0m\u001b[1;33m.\u001b[0m\u001b[0mdocumentation\u001b[0m \u001b[1;32mimport\u001b[0m \u001b[0mdocument\u001b[0m\u001b[1;33m,\u001b[0m \u001b[0mset_documentation_group\u001b[0m\u001b[1;33m\u001b[0m\u001b[1;33m\u001b[0m\u001b[0m\n\u001b[0;32m     28\u001b[0m \u001b[1;33m\u001b[0m\u001b[0m\n\u001b[1;32m---> 29\u001b[1;33m from gradio import (\n\u001b[0m\u001b[0;32m     30\u001b[0m     \u001b[0manalytics\u001b[0m\u001b[1;33m,\u001b[0m\u001b[1;33m\u001b[0m\u001b[1;33m\u001b[0m\u001b[0m\n\u001b[0;32m     31\u001b[0m     \u001b[0mcomponents\u001b[0m\u001b[1;33m,\u001b[0m\u001b[1;33m\u001b[0m\u001b[1;33m\u001b[0m\u001b[0m\n",
      "\u001b[1;32m~\\anaconda3\\envs\\learn-env\\lib\\site-packages\\gradio\\networking.py\u001b[0m in \u001b[0;36m<module>\u001b[1;34m\u001b[0m\n\u001b[0;32m     18\u001b[0m \u001b[1;33m\u001b[0m\u001b[0m\n\u001b[0;32m     19\u001b[0m \u001b[1;32mfrom\u001b[0m \u001b[0mgradio\u001b[0m\u001b[1;33m.\u001b[0m\u001b[0mexceptions\u001b[0m \u001b[1;32mimport\u001b[0m \u001b[0mServerFailedToStartError\u001b[0m\u001b[1;33m\u001b[0m\u001b[1;33m\u001b[0m\u001b[0m\n\u001b[1;32m---> 20\u001b[1;33m \u001b[1;32mfrom\u001b[0m \u001b[0mgradio\u001b[0m\u001b[1;33m.\u001b[0m\u001b[0mroutes\u001b[0m \u001b[1;32mimport\u001b[0m \u001b[0mApp\u001b[0m\u001b[1;33m\u001b[0m\u001b[1;33m\u001b[0m\u001b[0m\n\u001b[0m\u001b[0;32m     21\u001b[0m \u001b[1;32mfrom\u001b[0m \u001b[0mgradio\u001b[0m\u001b[1;33m.\u001b[0m\u001b[0mtunneling\u001b[0m \u001b[1;32mimport\u001b[0m \u001b[0mTunnel\u001b[0m\u001b[1;33m\u001b[0m\u001b[1;33m\u001b[0m\u001b[0m\n\u001b[0;32m     22\u001b[0m \u001b[1;32mfrom\u001b[0m \u001b[0mgradio\u001b[0m\u001b[1;33m.\u001b[0m\u001b[0mutils\u001b[0m \u001b[1;32mimport\u001b[0m \u001b[0mSourceFileReloader\u001b[0m\u001b[1;33m,\u001b[0m \u001b[0mwatchfn\u001b[0m\u001b[1;33m\u001b[0m\u001b[1;33m\u001b[0m\u001b[0m\n",
      "\u001b[1;32m~\\anaconda3\\envs\\learn-env\\lib\\site-packages\\gradio\\routes.py\u001b[0m in \u001b[0;36m<module>\u001b[1;34m\u001b[0m\n\u001b[0;32m     40\u001b[0m )\n\u001b[0;32m     41\u001b[0m \u001b[1;32mfrom\u001b[0m \u001b[0mfastapi\u001b[0m\u001b[1;33m.\u001b[0m\u001b[0msecurity\u001b[0m \u001b[1;32mimport\u001b[0m \u001b[0mOAuth2PasswordRequestForm\u001b[0m\u001b[1;33m\u001b[0m\u001b[1;33m\u001b[0m\u001b[0m\n\u001b[1;32m---> 42\u001b[1;33m \u001b[1;32mfrom\u001b[0m \u001b[0mfastapi\u001b[0m\u001b[1;33m.\u001b[0m\u001b[0mtemplating\u001b[0m \u001b[1;32mimport\u001b[0m \u001b[0mJinja2Templates\u001b[0m\u001b[1;33m\u001b[0m\u001b[1;33m\u001b[0m\u001b[0m\n\u001b[0m\u001b[0;32m     43\u001b[0m \u001b[1;32mfrom\u001b[0m \u001b[0mgradio_client\u001b[0m \u001b[1;32mimport\u001b[0m \u001b[0mutils\u001b[0m \u001b[1;32mas\u001b[0m \u001b[0mclient_utils\u001b[0m\u001b[1;33m\u001b[0m\u001b[1;33m\u001b[0m\u001b[0m\n\u001b[0;32m     44\u001b[0m \u001b[1;32mfrom\u001b[0m \u001b[0mgradio_client\u001b[0m\u001b[1;33m.\u001b[0m\u001b[0mdocumentation\u001b[0m \u001b[1;32mimport\u001b[0m \u001b[0mdocument\u001b[0m\u001b[1;33m,\u001b[0m \u001b[0mset_documentation_group\u001b[0m\u001b[1;33m\u001b[0m\u001b[1;33m\u001b[0m\u001b[0m\n",
      "\u001b[1;32m~\\anaconda3\\envs\\learn-env\\lib\\site-packages\\fastapi\\templating.py\u001b[0m in \u001b[0;36m<module>\u001b[1;34m\u001b[0m\n\u001b[1;32m----> 1\u001b[1;33m \u001b[1;32mfrom\u001b[0m \u001b[0mstarlette\u001b[0m\u001b[1;33m.\u001b[0m\u001b[0mtemplating\u001b[0m \u001b[1;32mimport\u001b[0m \u001b[0mJinja2Templates\u001b[0m \u001b[1;32mas\u001b[0m \u001b[0mJinja2Templates\u001b[0m  \u001b[1;31m# noqa\u001b[0m\u001b[1;33m\u001b[0m\u001b[1;33m\u001b[0m\u001b[0m\n\u001b[0m",
      "\u001b[1;32m~\\anaconda3\\envs\\learn-env\\lib\\site-packages\\starlette\\templating.py\u001b[0m in \u001b[0;36m<module>\u001b[1;34m\u001b[0m\n\u001b[0;32m     10\u001b[0m \u001b[1;33m\u001b[0m\u001b[0m\n\u001b[0;32m     11\u001b[0m \u001b[1;32mtry\u001b[0m\u001b[1;33m:\u001b[0m\u001b[1;33m\u001b[0m\u001b[1;33m\u001b[0m\u001b[0m\n\u001b[1;32m---> 12\u001b[1;33m     \u001b[1;32mimport\u001b[0m \u001b[0mjinja2\u001b[0m\u001b[1;33m\u001b[0m\u001b[1;33m\u001b[0m\u001b[0m\n\u001b[0m\u001b[0;32m     13\u001b[0m \u001b[1;33m\u001b[0m\u001b[0m\n\u001b[0;32m     14\u001b[0m     \u001b[1;31m# @contextfunction was renamed to @pass_context in Jinja 3.0, and was removed in 3.1\u001b[0m\u001b[1;33m\u001b[0m\u001b[1;33m\u001b[0m\u001b[1;33m\u001b[0m\u001b[0m\n",
      "\u001b[1;32m~\\anaconda3\\envs\\learn-env\\lib\\site-packages\\jinja2\\__init__.py\u001b[0m in \u001b[0;36m<module>\u001b[1;34m\u001b[0m\n\u001b[0;32m     10\u001b[0m \u001b[1;32mfrom\u001b[0m \u001b[1;33m.\u001b[0m\u001b[0mbccache\u001b[0m \u001b[1;32mimport\u001b[0m \u001b[0mFileSystemBytecodeCache\u001b[0m\u001b[1;33m\u001b[0m\u001b[1;33m\u001b[0m\u001b[0m\n\u001b[0;32m     11\u001b[0m \u001b[1;32mfrom\u001b[0m \u001b[1;33m.\u001b[0m\u001b[0mbccache\u001b[0m \u001b[1;32mimport\u001b[0m \u001b[0mMemcachedBytecodeCache\u001b[0m\u001b[1;33m\u001b[0m\u001b[1;33m\u001b[0m\u001b[0m\n\u001b[1;32m---> 12\u001b[1;33m \u001b[1;32mfrom\u001b[0m \u001b[1;33m.\u001b[0m\u001b[0menvironment\u001b[0m \u001b[1;32mimport\u001b[0m \u001b[0mEnvironment\u001b[0m\u001b[1;33m\u001b[0m\u001b[1;33m\u001b[0m\u001b[0m\n\u001b[0m\u001b[0;32m     13\u001b[0m \u001b[1;32mfrom\u001b[0m \u001b[1;33m.\u001b[0m\u001b[0menvironment\u001b[0m \u001b[1;32mimport\u001b[0m \u001b[0mTemplate\u001b[0m\u001b[1;33m\u001b[0m\u001b[1;33m\u001b[0m\u001b[0m\n\u001b[0;32m     14\u001b[0m \u001b[1;32mfrom\u001b[0m \u001b[1;33m.\u001b[0m\u001b[0mexceptions\u001b[0m \u001b[1;32mimport\u001b[0m \u001b[0mTemplateAssertionError\u001b[0m\u001b[1;33m\u001b[0m\u001b[1;33m\u001b[0m\u001b[0m\n",
      "\u001b[1;32m~\\anaconda3\\envs\\learn-env\\lib\\site-packages\\jinja2\\environment.py\u001b[0m in \u001b[0;36m<module>\u001b[1;34m\u001b[0m\n\u001b[0;32m     23\u001b[0m \u001b[1;32mfrom\u001b[0m \u001b[1;33m.\u001b[0m\u001b[0mcompiler\u001b[0m \u001b[1;32mimport\u001b[0m \u001b[0mCodeGenerator\u001b[0m\u001b[1;33m\u001b[0m\u001b[1;33m\u001b[0m\u001b[0m\n\u001b[0;32m     24\u001b[0m \u001b[1;32mfrom\u001b[0m \u001b[1;33m.\u001b[0m\u001b[0mcompiler\u001b[0m \u001b[1;32mimport\u001b[0m \u001b[0mgenerate\u001b[0m\u001b[1;33m\u001b[0m\u001b[1;33m\u001b[0m\u001b[0m\n\u001b[1;32m---> 25\u001b[1;33m \u001b[1;32mfrom\u001b[0m \u001b[1;33m.\u001b[0m\u001b[0mdefaults\u001b[0m \u001b[1;32mimport\u001b[0m \u001b[0mBLOCK_END_STRING\u001b[0m\u001b[1;33m\u001b[0m\u001b[1;33m\u001b[0m\u001b[0m\n\u001b[0m\u001b[0;32m     26\u001b[0m \u001b[1;32mfrom\u001b[0m \u001b[1;33m.\u001b[0m\u001b[0mdefaults\u001b[0m \u001b[1;32mimport\u001b[0m \u001b[0mBLOCK_START_STRING\u001b[0m\u001b[1;33m\u001b[0m\u001b[1;33m\u001b[0m\u001b[0m\n\u001b[0;32m     27\u001b[0m \u001b[1;32mfrom\u001b[0m \u001b[1;33m.\u001b[0m\u001b[0mdefaults\u001b[0m \u001b[1;32mimport\u001b[0m \u001b[0mCOMMENT_END_STRING\u001b[0m\u001b[1;33m\u001b[0m\u001b[1;33m\u001b[0m\u001b[0m\n",
      "\u001b[1;32m~\\anaconda3\\envs\\learn-env\\lib\\site-packages\\jinja2\\defaults.py\u001b[0m in \u001b[0;36m<module>\u001b[1;34m\u001b[0m\n\u001b[0;32m      1\u001b[0m \u001b[1;31m# -*- coding: utf-8 -*-\u001b[0m\u001b[1;33m\u001b[0m\u001b[1;33m\u001b[0m\u001b[1;33m\u001b[0m\u001b[0m\n\u001b[0;32m      2\u001b[0m \u001b[1;32mfrom\u001b[0m \u001b[1;33m.\u001b[0m\u001b[0m_compat\u001b[0m \u001b[1;32mimport\u001b[0m \u001b[0mrange_type\u001b[0m\u001b[1;33m\u001b[0m\u001b[1;33m\u001b[0m\u001b[0m\n\u001b[1;32m----> 3\u001b[1;33m \u001b[1;32mfrom\u001b[0m \u001b[1;33m.\u001b[0m\u001b[0mfilters\u001b[0m \u001b[1;32mimport\u001b[0m \u001b[0mFILTERS\u001b[0m \u001b[1;32mas\u001b[0m \u001b[0mDEFAULT_FILTERS\u001b[0m  \u001b[1;31m# noqa: F401\u001b[0m\u001b[1;33m\u001b[0m\u001b[1;33m\u001b[0m\u001b[0m\n\u001b[0m\u001b[0;32m      4\u001b[0m \u001b[1;32mfrom\u001b[0m \u001b[1;33m.\u001b[0m\u001b[0mtests\u001b[0m \u001b[1;32mimport\u001b[0m \u001b[0mTESTS\u001b[0m \u001b[1;32mas\u001b[0m \u001b[0mDEFAULT_TESTS\u001b[0m  \u001b[1;31m# noqa: F401\u001b[0m\u001b[1;33m\u001b[0m\u001b[1;33m\u001b[0m\u001b[0m\n\u001b[0;32m      5\u001b[0m \u001b[1;32mfrom\u001b[0m \u001b[1;33m.\u001b[0m\u001b[0mutils\u001b[0m \u001b[1;32mimport\u001b[0m \u001b[0mCycler\u001b[0m\u001b[1;33m\u001b[0m\u001b[1;33m\u001b[0m\u001b[0m\n",
      "\u001b[1;32m~\\anaconda3\\envs\\learn-env\\lib\\site-packages\\jinja2\\filters.py\u001b[0m in \u001b[0;36m<module>\u001b[1;34m\u001b[0m\n\u001b[0;32m     11\u001b[0m \u001b[1;32mfrom\u001b[0m \u001b[0mmarkupsafe\u001b[0m \u001b[1;32mimport\u001b[0m \u001b[0mescape\u001b[0m\u001b[1;33m\u001b[0m\u001b[1;33m\u001b[0m\u001b[0m\n\u001b[0;32m     12\u001b[0m \u001b[1;32mfrom\u001b[0m \u001b[0mmarkupsafe\u001b[0m \u001b[1;32mimport\u001b[0m \u001b[0mMarkup\u001b[0m\u001b[1;33m\u001b[0m\u001b[1;33m\u001b[0m\u001b[0m\n\u001b[1;32m---> 13\u001b[1;33m \u001b[1;32mfrom\u001b[0m \u001b[0mmarkupsafe\u001b[0m \u001b[1;32mimport\u001b[0m \u001b[0msoft_unicode\u001b[0m\u001b[1;33m\u001b[0m\u001b[1;33m\u001b[0m\u001b[0m\n\u001b[0m\u001b[0;32m     14\u001b[0m \u001b[1;33m\u001b[0m\u001b[0m\n\u001b[0;32m     15\u001b[0m \u001b[1;32mfrom\u001b[0m \u001b[1;33m.\u001b[0m\u001b[0m_compat\u001b[0m \u001b[1;32mimport\u001b[0m \u001b[0mabc\u001b[0m\u001b[1;33m\u001b[0m\u001b[1;33m\u001b[0m\u001b[0m\n",
      "\u001b[1;31mImportError\u001b[0m: cannot import name 'soft_unicode' from 'markupsafe' (C:\\Users\\Windows-10\\anaconda3\\envs\\learn-env\\lib\\site-packages\\markupsafe\\__init__.py)"
     ]
    }
   ],
   "source": [
    "import gradio as gr\n",
    "\n",
    "def greet(name, intensity):\n",
    "    return \"Hello \" * intensity + name + \"!\"\n",
    "\n",
    "demo = gr.Interface(\n",
    "    fn=greet,\n",
    "    inputs=[\"text\", \"slider\"],\n",
    "    outputs=[\"text\"],\n",
    "    live=True\n",
    ")\n",
    "\n",
    "demo.launch()"
   ]
  },
  {
   "cell_type": "code",
   "execution_count": 14,
   "metadata": {},
   "outputs": [
    {
     "data": {
      "text/html": [
       "<div>\n",
       "<style scoped>\n",
       "    .dataframe tbody tr th:only-of-type {\n",
       "        vertical-align: middle;\n",
       "    }\n",
       "\n",
       "    .dataframe tbody tr th {\n",
       "        vertical-align: top;\n",
       "    }\n",
       "\n",
       "    .dataframe thead th {\n",
       "        text-align: right;\n",
       "    }\n",
       "</style>\n",
       "<table border=\"1\" class=\"dataframe\">\n",
       "  <thead>\n",
       "    <tr style=\"text-align: right;\">\n",
       "      <th></th>\n",
       "      <th>UserID</th>\n",
       "      <th>Game</th>\n",
       "      <th>Hours</th>\n",
       "      <th>Min_Hours</th>\n",
       "      <th>Max_Hours</th>\n",
       "      <th>Ratings</th>\n",
       "    </tr>\n",
       "  </thead>\n",
       "  <tbody>\n",
       "    <tr>\n",
       "      <th>70381</th>\n",
       "      <td>42380987</td>\n",
       "      <td>Wildlife Park 2</td>\n",
       "      <td>29.0</td>\n",
       "      <td>1.6</td>\n",
       "      <td>29.0</td>\n",
       "      <td>1.000000</td>\n",
       "    </tr>\n",
       "    <tr>\n",
       "      <th>70382</th>\n",
       "      <td>166669789</td>\n",
       "      <td>Wildlife Park 2</td>\n",
       "      <td>1.6</td>\n",
       "      <td>1.6</td>\n",
       "      <td>29.0</td>\n",
       "      <td>0.055172</td>\n",
       "    </tr>\n",
       "    <tr>\n",
       "      <th>70386</th>\n",
       "      <td>131130328</td>\n",
       "      <td>Season of Mystery  The Cherry Blossom Murders</td>\n",
       "      <td>2.8</td>\n",
       "      <td>2.8</td>\n",
       "      <td>5.1</td>\n",
       "      <td>0.549020</td>\n",
       "    </tr>\n",
       "    <tr>\n",
       "      <th>70387</th>\n",
       "      <td>60859695</td>\n",
       "      <td>Season of Mystery  The Cherry Blossom Murders</td>\n",
       "      <td>5.1</td>\n",
       "      <td>2.8</td>\n",
       "      <td>5.1</td>\n",
       "      <td>1.000000</td>\n",
       "    </tr>\n",
       "    <tr>\n",
       "      <th>70389</th>\n",
       "      <td>131130328</td>\n",
       "      <td>Midnight Mysteries Salem Witch Trials</td>\n",
       "      <td>1.1</td>\n",
       "      <td>1.1</td>\n",
       "      <td>2.9</td>\n",
       "      <td>0.379310</td>\n",
       "    </tr>\n",
       "    <tr>\n",
       "      <th>70390</th>\n",
       "      <td>60859695</td>\n",
       "      <td>Midnight Mysteries Salem Witch Trials</td>\n",
       "      <td>2.9</td>\n",
       "      <td>1.1</td>\n",
       "      <td>2.9</td>\n",
       "      <td>1.000000</td>\n",
       "    </tr>\n",
       "    <tr>\n",
       "      <th>70391</th>\n",
       "      <td>131130328</td>\n",
       "      <td>Midnight Mysteries 4 Haunted Houdini</td>\n",
       "      <td>1.0</td>\n",
       "      <td>1.0</td>\n",
       "      <td>4.4</td>\n",
       "      <td>0.227273</td>\n",
       "    </tr>\n",
       "    <tr>\n",
       "      <th>70392</th>\n",
       "      <td>60859695</td>\n",
       "      <td>Midnight Mysteries 4 Haunted Houdini</td>\n",
       "      <td>4.4</td>\n",
       "      <td>1.0</td>\n",
       "      <td>4.4</td>\n",
       "      <td>1.000000</td>\n",
       "    </tr>\n",
       "    <tr>\n",
       "      <th>70393</th>\n",
       "      <td>131130328</td>\n",
       "      <td>Midnight Mysteries 3 Devil on the Mississippi</td>\n",
       "      <td>0.2</td>\n",
       "      <td>0.2</td>\n",
       "      <td>4.1</td>\n",
       "      <td>0.048780</td>\n",
       "    </tr>\n",
       "    <tr>\n",
       "      <th>70394</th>\n",
       "      <td>60859695</td>\n",
       "      <td>Midnight Mysteries 3 Devil on the Mississippi</td>\n",
       "      <td>4.1</td>\n",
       "      <td>0.2</td>\n",
       "      <td>4.1</td>\n",
       "      <td>1.000000</td>\n",
       "    </tr>\n",
       "    <tr>\n",
       "      <th>70404</th>\n",
       "      <td>47457723</td>\n",
       "      <td>Convoy</td>\n",
       "      <td>2.2</td>\n",
       "      <td>2.2</td>\n",
       "      <td>8.3</td>\n",
       "      <td>0.265060</td>\n",
       "    </tr>\n",
       "    <tr>\n",
       "      <th>70405</th>\n",
       "      <td>135400225</td>\n",
       "      <td>Convoy</td>\n",
       "      <td>8.3</td>\n",
       "      <td>2.2</td>\n",
       "      <td>8.3</td>\n",
       "      <td>1.000000</td>\n",
       "    </tr>\n",
       "    <tr>\n",
       "      <th>70419</th>\n",
       "      <td>168244631</td>\n",
       "      <td>Kung Fury Street Rage</td>\n",
       "      <td>0.9</td>\n",
       "      <td>0.2</td>\n",
       "      <td>0.9</td>\n",
       "      <td>1.000000</td>\n",
       "    </tr>\n",
       "    <tr>\n",
       "      <th>70420</th>\n",
       "      <td>162081645</td>\n",
       "      <td>Kung Fury Street Rage</td>\n",
       "      <td>0.2</td>\n",
       "      <td>0.2</td>\n",
       "      <td>0.9</td>\n",
       "      <td>0.222222</td>\n",
       "    </tr>\n",
       "    <tr>\n",
       "      <th>70423</th>\n",
       "      <td>34281672</td>\n",
       "      <td>Nancy Drew Ghost Dogs of Moon Lake</td>\n",
       "      <td>4.3</td>\n",
       "      <td>4.3</td>\n",
       "      <td>5.9</td>\n",
       "      <td>0.728814</td>\n",
       "    </tr>\n",
       "    <tr>\n",
       "      <th>70424</th>\n",
       "      <td>60859695</td>\n",
       "      <td>Nancy Drew Ghost Dogs of Moon Lake</td>\n",
       "      <td>5.9</td>\n",
       "      <td>4.3</td>\n",
       "      <td>5.9</td>\n",
       "      <td>1.000000</td>\n",
       "    </tr>\n",
       "    <tr>\n",
       "      <th>70436</th>\n",
       "      <td>162081645</td>\n",
       "      <td>Haunt the House Terrortown</td>\n",
       "      <td>1.3</td>\n",
       "      <td>0.8</td>\n",
       "      <td>1.3</td>\n",
       "      <td>1.000000</td>\n",
       "    </tr>\n",
       "    <tr>\n",
       "      <th>70437</th>\n",
       "      <td>154230723</td>\n",
       "      <td>Haunt the House Terrortown</td>\n",
       "      <td>0.8</td>\n",
       "      <td>0.8</td>\n",
       "      <td>1.3</td>\n",
       "      <td>0.615385</td>\n",
       "    </tr>\n",
       "    <tr>\n",
       "      <th>70438</th>\n",
       "      <td>142793906</td>\n",
       "      <td>Aces Wild Manic Brawling Action!</td>\n",
       "      <td>0.5</td>\n",
       "      <td>0.2</td>\n",
       "      <td>0.5</td>\n",
       "      <td>1.000000</td>\n",
       "    </tr>\n",
       "    <tr>\n",
       "      <th>70439</th>\n",
       "      <td>154230723</td>\n",
       "      <td>Aces Wild Manic Brawling Action!</td>\n",
       "      <td>0.2</td>\n",
       "      <td>0.2</td>\n",
       "      <td>0.5</td>\n",
       "      <td>0.400000</td>\n",
       "    </tr>\n",
       "  </tbody>\n",
       "</table>\n",
       "</div>"
      ],
      "text/plain": [
       "          UserID                                           Game  Hours  \\\n",
       "70381   42380987                                Wildlife Park 2   29.0   \n",
       "70382  166669789                                Wildlife Park 2    1.6   \n",
       "70386  131130328  Season of Mystery  The Cherry Blossom Murders    2.8   \n",
       "70387   60859695  Season of Mystery  The Cherry Blossom Murders    5.1   \n",
       "70389  131130328          Midnight Mysteries Salem Witch Trials    1.1   \n",
       "70390   60859695          Midnight Mysteries Salem Witch Trials    2.9   \n",
       "70391  131130328           Midnight Mysteries 4 Haunted Houdini    1.0   \n",
       "70392   60859695           Midnight Mysteries 4 Haunted Houdini    4.4   \n",
       "70393  131130328  Midnight Mysteries 3 Devil on the Mississippi    0.2   \n",
       "70394   60859695  Midnight Mysteries 3 Devil on the Mississippi    4.1   \n",
       "70404   47457723                                         Convoy    2.2   \n",
       "70405  135400225                                         Convoy    8.3   \n",
       "70419  168244631                          Kung Fury Street Rage    0.9   \n",
       "70420  162081645                          Kung Fury Street Rage    0.2   \n",
       "70423   34281672            Nancy Drew Ghost Dogs of Moon Lake     4.3   \n",
       "70424   60859695            Nancy Drew Ghost Dogs of Moon Lake     5.9   \n",
       "70436  162081645                     Haunt the House Terrortown    1.3   \n",
       "70437  154230723                     Haunt the House Terrortown    0.8   \n",
       "70438  142793906               Aces Wild Manic Brawling Action!    0.5   \n",
       "70439  154230723               Aces Wild Manic Brawling Action!    0.2   \n",
       "\n",
       "       Min_Hours  Max_Hours   Ratings  \n",
       "70381        1.6       29.0  1.000000  \n",
       "70382        1.6       29.0  0.055172  \n",
       "70386        2.8        5.1  0.549020  \n",
       "70387        2.8        5.1  1.000000  \n",
       "70389        1.1        2.9  0.379310  \n",
       "70390        1.1        2.9  1.000000  \n",
       "70391        1.0        4.4  0.227273  \n",
       "70392        1.0        4.4  1.000000  \n",
       "70393        0.2        4.1  0.048780  \n",
       "70394        0.2        4.1  1.000000  \n",
       "70404        2.2        8.3  0.265060  \n",
       "70405        2.2        8.3  1.000000  \n",
       "70419        0.2        0.9  1.000000  \n",
       "70420        0.2        0.9  0.222222  \n",
       "70423        4.3        5.9  0.728814  \n",
       "70424        4.3        5.9  1.000000  \n",
       "70436        0.8        1.3  1.000000  \n",
       "70437        0.8        1.3  0.615385  \n",
       "70438        0.2        0.5  1.000000  \n",
       "70439        0.2        0.5  0.400000  "
      ]
     },
     "execution_count": 14,
     "metadata": {},
     "output_type": "execute_result"
    }
   ],
   "source": [
    "filtered_data_new.tail(20)"
   ]
  },
  {
   "cell_type": "code",
   "execution_count": null,
   "metadata": {},
   "outputs": [],
   "source": []
  }
 ],
 "metadata": {
  "kernelspec": {
   "display_name": "Python 3",
   "language": "python",
   "name": "python3"
  },
  "language_info": {
   "codemirror_mode": {
    "name": "ipython",
    "version": 3
   },
   "file_extension": ".py",
   "mimetype": "text/x-python",
   "name": "python",
   "nbconvert_exporter": "python",
   "pygments_lexer": "ipython3",
   "version": "3.8.5"
  }
 },
 "nbformat": 4,
 "nbformat_minor": 4
}
